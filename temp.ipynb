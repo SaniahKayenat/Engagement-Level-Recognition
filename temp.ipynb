{
 "cells": [
  {
   "cell_type": "code",
   "execution_count": 69,
   "id": "85a16502",
   "metadata": {},
   "outputs": [],
   "source": [
    "import cv2\n",
    "import os\n",
    "\n",
    "# Function to get the duration of a video in seconds\n",
    "def get_video_duration(video_path):\n",
    "    cap = cv2.VideoCapture(video_path)\n",
    "    if not cap.isOpened():\n",
    "        raise ValueError(f\"Error opening video file {video_path}\")\n",
    "    \n",
    "    # Get the total number of frames and frames per second\n",
    "    total_frames = cap.get(cv2.CAP_PROP_FRAME_COUNT)\n",
    "    fps = cap.get(cv2.CAP_PROP_FPS)\n",
    "    \n",
    "    # Calculate the duration in seconds\n",
    "    duration = total_frames / fps\n",
    "    cap.release()\n",
    "    return (duration,fps,total_frames)\n",
    "\n"
   ]
  },
  {
   "cell_type": "code",
   "execution_count": null,
   "id": "d1a65a8e",
   "metadata": {},
   "outputs": [],
   "source": [
    "import cv2\n",
    "import os\n",
    "\n",
    "# Function to get the duration of a video in seconds\n",
    "def get_video_frames(video_path):\n",
    "    cap = cv2.VideoCapture(video_path)\n",
    "    if not cap.isOpened():\n",
    "        raise ValueError(f\"Error opening video file {video_path}\")\n",
    "    \n",
    "    # Get the total number of frames and frames per second\n",
    "    total_frames = cap.get(cv2.CAP_PROP_FRAME_COUNT)\n",
    "    fps = cap.get(cv2.CAP_PROP_FPS)\n",
    "    \n",
    "    # Calculate the duration in seconds\n",
    "    duration = total_frames / fps\n",
    "    cap.release()\n",
    "    return (duration,fps,total_frames)\n",
    "\n"
   ]
  },
  {
   "cell_type": "code",
   "execution_count": 75,
   "id": "13a79f50",
   "metadata": {},
   "outputs": [
    {
     "name": "stderr",
     "output_type": "stream",
     "text": [
      "100%|██████████| 1012/1012 [00:01<00:00, 676.73it/s]\n",
      "100%|██████████| 2490/2490 [00:03<00:00, 677.23it/s]\n",
      "100%|██████████| 2866/2866 [00:04<00:00, 681.57it/s]\n",
      "100%|██████████| 3/3 [00:09<00:00,  3.13s/it]\n"
     ]
    }
   ],
   "source": [
    "from tqdm import tqdm\n",
    "path = '/data/Saniah/Video/Dataset_30fps'\n",
    "folders = os.listdir(path)\n",
    "for folder in tqdm(folders):\n",
    "    videos = os.listdir(os.path.join(path,folder))\n",
    "    for video in tqdm(videos):\n",
    "        v_path = os.path.join(path,folder,video)\n",
    "        cap = cv2.VideoCapture(v_path)\n",
    "        if not cap.isOpened():\n",
    "            raise ValueError(f\"Error opening video file {video_path}\")\n",
    "        total_frames = cap.get(cv2.CAP_PROP_FRAME_COUNT)\n",
    "        if total_frames <=1:\n",
    "            os.remove(v_path)\n"
   ]
  },
  {
   "cell_type": "code",
   "execution_count": 74,
   "id": "bd59c158",
   "metadata": {},
   "outputs": [
    {
     "name": "stdout",
     "output_type": "stream",
     "text": [
      "yes\n",
      "1.0\n"
     ]
    }
   ],
   "source": [
    "path = '/data/Saniah/Video/Dataset_30fps/High/high-2636（1001-2000）_view1591.mp4.mp4'\n",
    "cap = cv2.VideoCapture(path)\n",
    "if not cap.isOpened():\n",
    "    raise ValueError(f\"Error opening video file {video_path}\")\n",
    "total_frames = cap.get(cv2.CAP_PROP_FRAME_COUNT)\n",
    "if total_frames <=1:\n",
    "    print('yes')\n",
    "print(total_frames)\n"
   ]
  },
  {
   "cell_type": "code",
   "execution_count": null,
   "id": "8a0b9273",
   "metadata": {},
   "outputs": [
    {
     "name": "stdout",
     "output_type": "stream",
     "text": [
      "✅ Video created: /data/Saniah/Video/Outputs/output_video.mp4\n"
     ]
    }
   ],
   "source": [
    "\n",
    "import cv2\n",
    "import os\n",
    "from natsort import natsorted\n",
    "\n",
    "# === Configuration ===\n",
    "image_folder = '/data/Saniah/Video/Outputs/high-2636（1-1000）_view134.mp4'           \n",
    "output_video = '/data/Saniah/Video/Outputs/output_video.mp4'  \n",
    "fps = 30                         \n",
    "\n",
    "# === Collect and sort image files ===\n",
    "images = [img for img in os.listdir(image_folder) if img.endswith(('.png', '.jpg', '.jpeg'))]\n",
    "images = natsorted(images)  \n",
    "\n",
    "# === Read first image to get size ===\n",
    "first_frame = cv2.imread(os.path.join(image_folder, images[0]))\n",
    "height, width, layers = first_frame.shape\n",
    "\n",
    "# === Create video writer ===\n",
    "fourcc = cv2.VideoWriter_fourcc(*'mp4v')  # For .mp4 format\n",
    "video = cv2.VideoWriter(output_video, fourcc, fps, (width, height))\n",
    "\n",
    "# === Write frames ===\n",
    "for image in images:\n",
    "    img_path = os.path.join(image_folder, image)\n",
    "    frame = cv2.imread(img_path)\n",
    "    if frame is not None:\n",
    "        video.write(frame)\n",
    "\n",
    "video.release()\n",
    "print(\"✅ Video created:\", output_video)\n"
   ]
  },
  {
   "cell_type": "code",
   "execution_count": null,
   "id": "c226dbd5",
   "metadata": {},
   "outputs": [
    {
     "name": "stdout",
     "output_type": "stream",
     "text": [
      "Minimum video duration: 0.03 seconds\n",
      "Maximum video duration: 14.27 seconds\n"
     ]
    }
   ],
   "source": [
    "# Folder path containing videos\n",
    "video_folder = '/data/Saniah/Video/Dataset_30fps/High'\n",
    "\n",
    "# Initialize variables to track min and max durations\n",
    "min_duration = float('inf')\n",
    "max_duration = float('-inf')\n",
    "\n",
    "# Iterate over all video files in the folder\n",
    "for video_file in os.listdir(video_folder):\n",
    "    video_path = os.path.join(video_folder, video_file)\n",
    "\n",
    "    if video_path.endswith(('.mp4')): \n",
    "        try:\n",
    "            # Get video duration\n",
    "            duration = get_video_duration(video_path)\n",
    "            \n",
    "            # Update min and max durations\n",
    "            min_duration = min(min_duration, duration)\n",
    "            max_duration = max(max_duration, duration)\n",
    "            \n",
    "        except ValueError as e:\n",
    "            print(f\"Skipping {video_file}: {e}\")\n",
    "\n",
    "# Print the results\n",
    "if min_duration != float('inf') and max_duration != float('-inf'):\n",
    "    print(f\"Minimum video duration: {min_duration:.2f} seconds\")\n",
    "    print(f\"Maximum video duration: {max_duration:.2f} seconds\")\n",
    "else:\n",
    "    print(\"No valid video files found in the folder.\")"
   ]
  },
  {
   "cell_type": "code",
   "execution_count": null,
   "id": "a2307bc6",
   "metadata": {},
   "outputs": [
    {
     "name": "stdout",
     "output_type": "stream",
     "text": [
      "Minimum video duration: 0.13 seconds\n",
      "Maximum video duration: 14.63 seconds\n"
     ]
    }
   ],
   "source": [
    "# Folder path containing videos\n",
    "video_folder = '/data/Saniah/Video/Dataset_30fps/Med'\n",
    "\n",
    "# Initialize variables to track min and max durations\n",
    "min_duration = float('inf')\n",
    "max_duration = float('-inf')\n",
    "\n",
    "# Iterate over all video files in the folder\n",
    "for video_file in os.listdir(video_folder):\n",
    "    video_path = os.path.join(video_folder, video_file)\n",
    "\n",
    "    if video_path.endswith(('.mp4')):  # Extend as needed\n",
    "        try:\n",
    "            # Get video duration\n",
    "            duration = get_video_duration(video_path)\n",
    "            \n",
    "            # Update min and max durations\n",
    "            min_duration = min(min_duration, duration)\n",
    "            max_duration = max(max_duration, duration)\n",
    "            \n",
    "        except ValueError as e:\n",
    "            print(f\"Skipping {video_file}: {e}\")\n",
    "\n",
    "# Print the results\n",
    "if min_duration != float('inf') and max_duration != float('-inf'):\n",
    "    print(f\"Minimum video duration: {min_duration:.2f} seconds\")\n",
    "    print(f\"Maximum video duration: {max_duration:.2f} seconds\")\n",
    "else:\n",
    "    print(\"No valid video files found in the folder.\")"
   ]
  },
  {
   "cell_type": "code",
   "execution_count": null,
   "id": "fd7ccbd6",
   "metadata": {},
   "outputs": [
    {
     "name": "stdout",
     "output_type": "stream",
     "text": [
      "Minimum video duration: 0.03 seconds\n",
      "Maximum video duration: 14.87 seconds\n"
     ]
    }
   ],
   "source": [
    "# Folder path containing videos\n",
    "video_folder = '/data/Saniah/Video/Dataset_30fps/Low'\n",
    "\n",
    "# Initialize variables to track min and max durations\n",
    "min_duration = float('inf')\n",
    "max_duration = float('-inf')\n",
    "\n",
    "# Iterate over all video files in the folder\n",
    "for video_file in os.listdir(video_folder):\n",
    "    video_path = os.path.join(video_folder, video_file)\n",
    "\n",
    "    if video_path.endswith(('.mp4')): \n",
    "        try:\n",
    "            # Get video duration\n",
    "            duration = get_video_duration(video_path)\n",
    "            \n",
    "            # Update min and max durations\n",
    "            min_duration = min(min_duration, duration)\n",
    "            max_duration = max(max_duration, duration)\n",
    "            \n",
    "        except ValueError as e:\n",
    "            print(f\"Skipping {video_file}: {e}\")\n",
    "\n",
    "# Print the results\n",
    "if min_duration != float('inf') and max_duration != float('-inf'):\n",
    "    print(f\"Minimum video duration: {min_duration:.2f} seconds\")\n",
    "    print(f\"Maximum video duration: {max_duration:.2f} seconds\")\n",
    "else:\n",
    "    print(\"No valid video files found in the folder.\")"
   ]
  },
  {
   "cell_type": "code",
   "execution_count": 28,
   "id": "604f849f",
   "metadata": {},
   "outputs": [
    {
     "data": {
      "image/png": "[encoded data removed]",
      "text/plain": [
       "<Figure size 640x480 with 1 Axes>"
      ]
     },
     "metadata": {},
     "output_type": "display_data"
    },
    {
     "name": "stdout",
     "output_type": "stream",
     "text": [
      "Video duration within 5 to 6 seconds: 1145\n"
     ]
    }
   ],
   "source": [
    "import os\n",
    "import cv2\n",
    "import matplotlib.pyplot as plt\n",
    "def get_video_duration(video_path):\n",
    "    cap = cv2.VideoCapture(video_path)\n",
    "    if not cap.isOpened():\n",
    "        return None\n",
    "    fps = cap.get(cv2.CAP_PROP_FPS)\n",
    "    frame_count = cap.get(cv2.CAP_PROP_FRAME_COUNT)\n",
    "    duration = frame_count/fps if fps>0 else 0\n",
    "    cap.release()\n",
    "    return duration\n",
    "def plot_duration_histogram(folder_path):\n",
    "    durations = []\n",
    "    cnt = 0\n",
    "\n",
    "    for file in os.listdir(folder_path):\n",
    "        video_path = os.path.join(folder_path,file)\n",
    "        duration = get_video_duration(video_path)\n",
    "        durations.append(duration)\n",
    "        if duration >= 5 and duration <5.5:\n",
    "            cnt+=1\n",
    "    plt.hist(durations,bins=10,edgecolor = 'black')\n",
    "    plt.xlabel('Duration (seconds)')\n",
    "    plt.ylabel('Number of Videos')\n",
    "    plt.title('Video Durations')\n",
    "    plt.grid(True)\n",
    "    plt.show()\n",
    "    print(f'Video duration within 5 to 6 seconds: {cnt}')\n",
    "video_folder = '/data/Saniah/Video/Dataset_30fps/High'\n",
    "plot_duration_histogram(video_folder)\n"
   ]
  },
  {
   "cell_type": "code",
   "execution_count": 14,
   "id": "8faf25cb",
   "metadata": {},
   "outputs": [
    {
     "data": {
      "image/png": "[encoded data removed]",
      "text/plain": [
       "<Figure size 640x480 with 1 Axes>"
      ]
     },
     "metadata": {},
     "output_type": "display_data"
    },
    {
     "name": "stdout",
     "output_type": "stream",
     "text": [
      "Video duration within 2 to 6 seconds: 491\n"
     ]
    }
   ],
   "source": [
    "import os\n",
    "import cv2\n",
    "import matplotlib.pyplot as plt\n",
    "def get_video_duration(video_path):\n",
    "    cap = cv2.VideoCapture(video_path)\n",
    "    if not cap.isOpened():\n",
    "        return None\n",
    "    fps = cap.get(cv2.CAP_PROP_FPS)\n",
    "    frame_count = cap.get(cv2.CAP_PROP_FRAME_COUNT)\n",
    "    duration = frame_count/fps if fps>0 else 0\n",
    "    cap.release()\n",
    "    return duration\n",
    "def plot_duration_histogram(folder_path):\n",
    "    durations = []\n",
    "    cnt = 0\n",
    "\n",
    "    for file in os.listdir(folder_path):\n",
    "        video_path = os.path.join(folder_path,file)\n",
    "        duration = get_video_duration(video_path)\n",
    "        durations.append(duration)\n",
    "        if duration >= 2 and duration <= 6:\n",
    "            cnt+=1\n",
    "    plt.hist(durations,bins=10,edgecolor = 'black')\n",
    "    plt.xlabel('Duration (seconds)')\n",
    "    plt.ylabel('Number of Videos')\n",
    "    plt.title('Video Durations')\n",
    "    plt.grid(True)\n",
    "    plt.show()\n",
    "    print(f'Video duration within 2 to 6 seconds: {cnt}')\n",
    "video_folder = '/data/Saniah/Video/Dataset_30fps/Med'\n",
    "plot_duration_histogram(video_folder)\n"
   ]
  },
  {
   "cell_type": "code",
   "execution_count": 24,
   "id": "64ce141e",
   "metadata": {},
   "outputs": [
    {
     "data": {
      "image/png": "[encoded data removed]",
      "text/plain": [
       "<Figure size 640x480 with 1 Axes>"
      ]
     },
     "metadata": {},
     "output_type": "display_data"
    },
    {
     "name": "stdout",
     "output_type": "stream",
     "text": [
      "Video duration within 4 to 6 seconds: 1019\n"
     ]
    }
   ],
   "source": [
    "import os\n",
    "import cv2\n",
    "import matplotlib.pyplot as plt\n",
    "def get_video_duration(video_path):\n",
    "    cap = cv2.VideoCapture(video_path)\n",
    "    if not cap.isOpened():\n",
    "        return None\n",
    "    fps = cap.get(cv2.CAP_PROP_FPS)\n",
    "    frame_count = cap.get(cv2.CAP_PROP_FRAME_COUNT)\n",
    "    duration = frame_count/fps if fps>0 else 0\n",
    "    cap.release()\n",
    "    return duration\n",
    "def plot_duration_histogram(folder_path):\n",
    "    durations = []\n",
    "    cnt = 0\n",
    "\n",
    "    for file in os.listdir(folder_path):\n",
    "        video_path = os.path.join(folder_path,file)\n",
    "        duration = get_video_duration(video_path)\n",
    "        durations.append(duration)\n",
    "        if duration > 4.9 and duration <= 6:\n",
    "            cnt+=1\n",
    "    plt.hist(durations,bins=10,edgecolor = 'black')\n",
    "    plt.xlabel('Duration (seconds)')\n",
    "    plt.ylabel('Number of Videos')\n",
    "    plt.title('Video Durations')\n",
    "    plt.grid(True)\n",
    "    plt.show()\n",
    "    print(f'Video duration within 4 to 6 seconds: {cnt}')\n",
    "video_folder = '/data/Saniah/Video/Dataset_30fps/Low'\n",
    "plot_duration_histogram(video_folder)\n"
   ]
  },
  {
   "cell_type": "code",
   "execution_count": 31,
   "id": "ccb18c3a",
   "metadata": {},
   "outputs": [
    {
     "name": "stderr",
     "output_type": "stream",
     "text": [
      "100%|██████████| 2490/2490 [00:07<00:00, 355.22it/s]\n"
     ]
    }
   ],
   "source": [
    "import shutil\n",
    "from tqdm import tqdm\n",
    "root = '/data/Saniah/Video/Dataset_30fps/High'\n",
    "level = 'High'\n",
    "op =  '/data/Saniah/Video/Dataset_30fps_cleaned'\n",
    "if not os.path.exists(op):\n",
    "    os.makedirs(op)\n",
    "if not os.path.exists(os.path.join(op,level)):\n",
    "    os.makedirs(os.path.join(op,level))\n",
    "videos = os.listdir(root)\n",
    "for video in tqdm(videos):\n",
    "    duration = get_video_duration(os.path.join(root,video))\n",
    "    if duration >=5 and duration <5.5:\n",
    "        shutil.copy(os.path.join(root,video),os.path.join(op,level,video))\n"
   ]
  },
  {
   "cell_type": "code",
   "execution_count": 32,
   "id": "70d6850f",
   "metadata": {},
   "outputs": [
    {
     "name": "stderr",
     "output_type": "stream",
     "text": [
      "Collecting durations: 100%|██████████| 1012/1012 [00:01<00:00, 677.54it/s]\n",
      "Copying videos: 100%|██████████| 1000/1000 [00:01<00:00, 567.17it/s]\n"
     ]
    }
   ],
   "source": [
    "import os\n",
    "import shutil\n",
    "from tqdm import tqdm\n",
    "import cv2\n",
    "\n",
    "def get_video_duration(video_path):\n",
    "    cap = cv2.VideoCapture(video_path)\n",
    "    if not cap.isOpened():\n",
    "        return None\n",
    "    fps = cap.get(cv2.CAP_PROP_FPS)\n",
    "    frame_count = cap.get(cv2.CAP_PROP_FRAME_COUNT)\n",
    "    duration = frame_count / fps if fps > 0 else 0\n",
    "    cap.release()\n",
    "    return duration\n",
    "\n",
    "root = '/data/Saniah/Video/Dataset_30fps/Med'\n",
    "level = 'Med'\n",
    "op =  '/data/Saniah/Video/Dataset_30fps_cleaned'\n",
    "\n",
    "# Create directories\n",
    "os.makedirs(os.path.join(op, level), exist_ok=True)\n",
    "\n",
    "# Step 1: Collect all video paths and durations\n",
    "video_durations = []\n",
    "videos = os.listdir(root)\n",
    "for video in tqdm(videos, desc='Collecting durations'):\n",
    "    path = os.path.join(root, video)\n",
    "    duration = get_video_duration(path)\n",
    "    if duration is not None:\n",
    "        video_durations.append((video, duration))\n",
    "\n",
    "# Step 2: Sort by duration\n",
    "video_durations.sort(key=lambda x: x[1])\n",
    "\n",
    "# Step 3: Exclude 12 lowest duration videos\n",
    "videos_to_keep = video_durations[12:]\n",
    "\n",
    "# Step 4: Filter and copy videos between 5 and 5.5 sec\n",
    "for video, duration in tqdm(videos_to_keep, desc='Copying videos'):\n",
    "    src = os.path.join(root, video)\n",
    "    dst = os.path.join(op, level, video)\n",
    "    shutil.copy(src, dst)\n"
   ]
  },
  {
   "cell_type": "code",
   "execution_count": 33,
   "id": "24ea4edd",
   "metadata": {},
   "outputs": [
    {
     "name": "stderr",
     "output_type": "stream",
     "text": [
      "100%|██████████| 2866/2866 [00:06<00:00, 412.23it/s]\n"
     ]
    }
   ],
   "source": [
    "import shutil\n",
    "from tqdm import tqdm\n",
    "root = '/data/Saniah/Video/Dataset_30fps/Low'\n",
    "level = 'Low'\n",
    "op =  '/data/Saniah/Video/Dataset_30fps_cleaned'\n",
    "if not os.path.exists(op):\n",
    "    os.makedirs(op)\n",
    "if not os.path.exists(os.path.join(op,level)):\n",
    "    os.makedirs(os.path.join(op,level))\n",
    "videos = os.listdir(root)\n",
    "for video in tqdm(videos):\n",
    "    duration = get_video_duration(os.path.join(root,video))\n",
    "    if duration >4.9 and duration <=6:\n",
    "        shutil.copy(os.path.join(root,video),os.path.join(op,level,video))\n"
   ]
  },
  {
   "cell_type": "code",
   "execution_count": null,
   "id": "d9911342",
   "metadata": {},
   "outputs": [
    {
     "name": "stdout",
     "output_type": "stream",
     "text": [
      "Found 1145 videos.\n"
     ]
    },
    {
     "name": "stderr",
     "output_type": "stream",
     "text": [
      "Calculating durations: 100%|██████████| 1145/1145 [00:01<00:00, 678.41it/s]\n",
      "Deleting videos: 100%|██████████| 145/145 [00:00<00:00, 1493.37it/s]"
     ]
    },
    {
     "name": "stdout",
     "output_type": "stream",
     "text": [
      "Deleted 145 videos. 1000 remain.\n"
     ]
    },
    {
     "name": "stderr",
     "output_type": "stream",
     "text": [
      "\n"
     ]
    }
   ],
   "source": [
    "import os\n",
    "import cv2\n",
    "import tqdm\n",
    "\n",
    "def get_video_duration(video_path):\n",
    "    cap = cv2.VideoCapture(video_path)\n",
    "    if not cap.isOpened():\n",
    "        return None\n",
    "    fps = cap.get(cv2.CAP_PROP_FPS)\n",
    "    frame_count = cap.get(cv2.CAP_PROP_FRAME_COUNT)\n",
    "    duration = frame_count / fps if fps > 0 else 0\n",
    "    cap.release()\n",
    "    return duration\n",
    "\n",
    "def trim_folder_to_1000_videos(folder_path, keep=1000):\n",
    "    video_files = [\n",
    "        f for f in os.listdir(folder_path)\n",
    "        if f.lower().endswith(('.mp4', '.avi', '.mov', '.mkv'))\n",
    "    ]\n",
    "    print(f\"Found {len(video_files)} videos.\")\n",
    "\n",
    "    if len(video_files) <= keep:\n",
    "        print(\"No need to delete any videos.\")\n",
    "        return\n",
    "\n",
    "    # Step 1: Get durations\n",
    "    durations = []\n",
    "    for video in tqdm.tqdm(video_files, desc=\"Calculating durations\"):\n",
    "        path = os.path.join(folder_path, video)\n",
    "        duration = get_video_duration(path)\n",
    "        if duration is not None:\n",
    "            durations.append((video, duration))\n",
    "\n",
    "    # Step 2: Sort by duration (ascending)\n",
    "    durations.sort(key=lambda x: x[1])\n",
    "\n",
    "    # Step 3: Identify videos to delete\n",
    "    to_delete = durations[:len(durations) - keep]\n",
    "\n",
    "    # Step 4: Delete videos\n",
    "    for video, duration in tqdm.tqdm(to_delete, desc=\"Deleting videos\"):\n",
    "        try:\n",
    "            os.remove(os.path.join(folder_path, video))\n",
    "        except Exception as e:\n",
    "            print(f\"Error deleting {video}: {e}\")\n",
    "\n",
    "    print(f\"Deleted {len(to_delete)} videos. {keep} remain.\")\n",
    "\n",
    "folder_path = '/data/Saniah/Video/Dataset_30fps_cleaned/High'\n",
    "trim_folder_to_1000_videos(folder_path, keep=1000)\n"
   ]
  },
  {
   "cell_type": "code",
   "execution_count": null,
   "id": "c7d799ae",
   "metadata": {},
   "outputs": [
    {
     "name": "stdout",
     "output_type": "stream",
     "text": [
      "Found 1019 videos.\n"
     ]
    },
    {
     "name": "stderr",
     "output_type": "stream",
     "text": [
      "Calculating durations: 100%|██████████| 1019/1019 [00:01<00:00, 680.61it/s]\n",
      "Deleting videos: 100%|██████████| 19/19 [00:00<00:00, 1702.63it/s]"
     ]
    },
    {
     "name": "stdout",
     "output_type": "stream",
     "text": [
      "Deleted 19 videos. 1000 remain.\n"
     ]
    },
    {
     "name": "stderr",
     "output_type": "stream",
     "text": [
      "\n"
     ]
    }
   ],
   "source": [
    "import os\n",
    "import cv2\n",
    "import tqdm\n",
    "\n",
    "def get_video_duration(video_path):\n",
    "    cap = cv2.VideoCapture(video_path)\n",
    "    if not cap.isOpened():\n",
    "        return None\n",
    "    fps = cap.get(cv2.CAP_PROP_FPS)\n",
    "    frame_count = cap.get(cv2.CAP_PROP_FRAME_COUNT)\n",
    "    duration = frame_count / fps if fps > 0 else 0\n",
    "    cap.release()\n",
    "    return duration\n",
    "\n",
    "def trim_folder_to_1000_videos(folder_path, keep=1000):\n",
    "    video_files = [\n",
    "        f for f in os.listdir(folder_path)\n",
    "        if f.lower().endswith(('.mp4', '.avi', '.mov', '.mkv'))\n",
    "    ]\n",
    "    print(f\"Found {len(video_files)} videos.\")\n",
    "\n",
    "    if len(video_files) <= keep:\n",
    "        print(\"No need to delete any videos.\")\n",
    "        return\n",
    "\n",
    "    # Step 1: Get durations\n",
    "    durations = []\n",
    "    for video in tqdm.tqdm(video_files, desc=\"Calculating durations\"):\n",
    "        path = os.path.join(folder_path, video)\n",
    "        duration = get_video_duration(path)\n",
    "        if duration is not None:\n",
    "            durations.append((video, duration))\n",
    "\n",
    "    # Step 2: Sort by duration (ascending)\n",
    "    durations.sort(key=lambda x: x[1])\n",
    "\n",
    "    # Step 3: Identify videos to delete\n",
    "    to_delete = durations[:len(durations) - keep]\n",
    "\n",
    "    # Step 4: Delete videos\n",
    "    for video, duration in tqdm.tqdm(to_delete, desc=\"Deleting videos\"):\n",
    "        try:\n",
    "            os.remove(os.path.join(folder_path, video))\n",
    "        except Exception as e:\n",
    "            print(f\"Error deleting {video}: {e}\")\n",
    "\n",
    "    print(f\"Deleted {len(to_delete)} videos. {keep} remain.\")\n",
    "\n",
    "\n",
    "folder_path = '/data/Saniah/Video/Dataset_30fps_cleaned/Low'\n",
    "trim_folder_to_1000_videos(folder_path, keep=1000)\n"
   ]
  },
  {
   "cell_type": "code",
   "execution_count": null,
   "id": "71a648a3",
   "metadata": {},
   "outputs": [],
   "source": [
    "import os\n",
    "import cv2\n",
    "\n",
    "# Set your folder path\n",
    "video_folder = '/data/Saniah/Video/Dataset_30fps_cleaned/High'\n",
    "\n",
    "# Get all video files\n",
    "video_files = [f for f in os.listdir(video_folder) if f.endswith(('.mp4', '.avi', '.mov'))]\n",
    "\n",
    "# Track resolutions\n",
    "resolutions = {}\n",
    "\n",
    "for video in video_files:\n",
    "    video_path = os.path.join(video_folder, video)\n",
    "    cap = cv2.VideoCapture(video_path)\n",
    "\n",
    "    if not cap.isOpened():\n",
    "        print(f\"Could not open {video}\")\n",
    "        continue\n",
    "\n",
    "    width = int(cap.get(cv2.CAP_PROP_FRAME_WIDTH))\n",
    "    height = int(cap.get(cv2.CAP_PROP_FRAME_HEIGHT))\n",
    "    cap.release()\n",
    "\n",
    "    resolution = (width, height)\n",
    "    if resolution not in resolutions:\n",
    "        resolutions[resolution] = []\n",
    "    resolutions[resolution].append(video)\n",
    "\n",
    "# Print summary\n",
    "print(\"\\nResolution Summary:\")\n",
    "for res, vids in resolutions.items():\n",
    "    print(f\"Resolution {res}: {len(vids)} videos\")\n",
    "    for v in vids:\n",
    "        print(f\"  - {v}\")\n"
   ]
  },
  {
   "cell_type": "code",
   "execution_count": 38,
   "id": "1ff01a6b",
   "metadata": {},
   "outputs": [],
   "source": [
    "import os\n",
    "\n",
    "video_folder = '/data/Saniah/Video/Raft_features/High'\n",
    "\n",
    "for vid in os.listdir(video_folder):\n",
    "    old_path = os.path.join(video_folder, vid)\n",
    "    new_name = vid.replace(\".mp4.mp4\", \"\")\n",
    "    new_path = os.path.join(video_folder, new_name)\n",
    "\n",
    "    os.rename(old_path, new_path)\n",
    "    # print(f\"Renamed to: {new_name}\")\n",
    "\n"
   ]
  },
  {
   "cell_type": "code",
   "execution_count": null,
   "id": "e98f49cf",
   "metadata": {},
   "outputs": [],
   "source": [
    "import pandas as pd\n",
    "import os\n",
    "import re\n",
    "\n",
    "# Paths\n",
    "csv_path = '/data/Saniah/Video/videos_detection_and_tracking (copy).csv'\n",
    "video_folder = '/data/Saniah/Video/Dataset_30fps_cleaned'\n",
    "\n",
    "# Load CSV\n",
    "df = pd.read_csv(csv_path)\n",
    "\n",
    "# Function to strip all .mp4 extensions\n",
    "def strip_mp4(filename):\n",
    "    return re.sub(r'(\\.mp4)+$', '', filename)\n",
    "\n",
    "# Collect all filenames from subfolders and flatten the list\n",
    "all_videos = []\n",
    "for subfolder in ['High', 'Med', 'Low']:\n",
    "    sub_path = os.path.join(video_folder, subfolder)\n",
    "    all_videos.extend(os.listdir(sub_path))  \n",
    "\n",
    "# Get unique base names\n",
    "existing_videos = {strip_mp4(fname) for fname in all_videos}\n",
    "\n",
    "# Strip base names in CSV\n",
    "df['video_base'] = df['video'].apply(strip_mp4)\n",
    "\n",
    "# Filter rows where base name exists in video folder\n",
    "df_filtered = df[df['video_base'].isin(existing_videos)].copy()\n",
    "\n",
    "# Drop helper column\n",
    "df_filtered.drop(columns=['video_base'], inplace=True)\n",
    "\n",
    "# Save\n",
    "df_filtered.to_csv('filtered_file.csv', index=False)\n"
   ]
  },
  {
   "cell_type": "code",
   "execution_count": null,
   "id": "befd7e29",
   "metadata": {},
   "outputs": [],
   "source": [
    "video_folder = '/data/Saniah/Video/Datasets/Dataset_30fps_all'\n",
    "csv_path = '/data/Saniah/Video/CSV/videos_detection_and_tracking (copy).csv'\n",
    "output_csv_path = '/data/Saniah/Video/CSV/track_detect_all.csv'\n",
    "# Load CSV\n",
    "df = pd.read_csv(csv_path)\n",
    "\n",
    "# Function to strip all .mp4 extensions\n",
    "def strip_mp4(filename):\n",
    "    return re.sub(r'(\\.mp4)+$', '', filename)\n",
    "\n",
    "all_videos = []\n",
    "for subfolder in ['High', 'Med', 'Low']:\n",
    "    sub_path = os.path.join(video_folder, subfolder)\n",
    "    all_videos.extend(os.listdir(sub_path))  # extend instead of append\n",
    "\n",
    "# Get unique base names\n",
    "existing_videos = {strip_mp4(fname) for fname in all_videos}\n",
    "\n",
    "# Strip base names in CSV\n",
    "df['video_base'] = df['video'].apply(strip_mp4)\n",
    "\n",
    "# Filter rows where base name exists in video folder\n",
    "df_filtered = df[df['video_base'].isin(existing_videos)].copy()\n",
    "\n",
    "# Drop helper column\n",
    "df_filtered.drop(columns=['video_base'], inplace=True)\n",
    "\n",
    "# Save\n",
    "df_filtered.to_csv(output_csv_path, index=False)"
   ]
  },
  {
   "cell_type": "code",
   "execution_count": 77,
   "id": "8afa4e6d",
   "metadata": {},
   "outputs": [
    {
     "name": "stdout",
     "output_type": "stream",
     "text": [
      "Row count: 5609643\n"
     ]
    }
   ],
   "source": [
    "import pandas as pd\n",
    "\n",
    "# Path to your CSV file\n",
    "csv_path = '/data/Saniah/Video/CSV/videos_detection_and_tracking (copy).csv'\n",
    "\n",
    "# Read the CSV\n",
    "df = pd.read_csv(csv_path)\n",
    "\n",
    "# Get number of rows\n",
    "row_count = len(df)\n",
    "\n",
    "print(f\"Row count: {row_count}\")\n"
   ]
  },
  {
   "cell_type": "code",
   "execution_count": 78,
   "id": "5af2e1c5",
   "metadata": {},
   "outputs": [
    {
     "name": "stdout",
     "output_type": "stream",
     "text": [
      "Row count: 5609643\n"
     ]
    }
   ],
   "source": [
    "import pandas as pd\n",
    "\n",
    "# Path to your CSV file\n",
    "csv_path = '/data/Saniah/Video/CSV/track_detect_all.csv'\n",
    "\n",
    "# Read the CSV\n",
    "df = pd.read_csv(csv_path)\n",
    "\n",
    "# Get number of rows\n",
    "row_count = len(df)\n",
    "\n",
    "print(f\"Row count: {row_count}\")\n"
   ]
  },
  {
   "cell_type": "code",
   "execution_count": 81,
   "id": "8e8303bf",
   "metadata": {},
   "outputs": [
    {
     "name": "stdout",
     "output_type": "stream",
     "text": [
      "All videos in the CSV exist in the subfolders.\n"
     ]
    }
   ],
   "source": [
    "import os\n",
    "import pandas as pd\n",
    "\n",
    "# Paths\n",
    "csv_path ='/data/Saniah/Video/CSV/track_detect_all.csv'\n",
    "root_video_folder ='/data/Saniah/Video/Datasets/Dataset_30fps_all'  # contains 'High', 'Med', 'Low'\n",
    "subfolders = ['High', 'Med', 'Low']\n",
    "\n",
    "# Load CSV\n",
    "df = pd.read_csv(csv_path)\n",
    "\n",
    "# Function to strip all .mp4 extensions\n",
    "def strip_mp4(filename):\n",
    "    return re.sub(r'(\\.mp4)+$', '', filename)\n",
    "\n",
    "# Collect all filenames from subfolders and flatten the list\n",
    "all_videos = []\n",
    "for subfolder in ['High', 'Med', 'Low']:\n",
    "    sub_path = os.path.join(video_folder, subfolder)\n",
    "    all_videos.extend(os.listdir(sub_path))  # extend instead of append\n",
    "\n",
    "\n",
    "# Check and print missing videos\n",
    "missing_videos = []\n",
    "for video_name in df['video']:\n",
    "    name = video_name + '.mp4'\n",
    "    if name not in all_videos:\n",
    "        missing_videos.append(video_name.strip)\n",
    "\n",
    "# Print result\n",
    "if missing_videos:\n",
    "    print(\"Videos in CSV but not found in any subfolder:\")\n",
    "    for mv in missing_videos:\n",
    "        print(mv)\n",
    "else:\n",
    "    print(\"All videos in the CSV exist in the subfolders.\")\n"
   ]
  },
  {
   "cell_type": "code",
   "execution_count": 83,
   "id": "272f7a86",
   "metadata": {},
   "outputs": [
    {
     "name": "stderr",
     "output_type": "stream",
     "text": [
      "100%|██████████| 1000/1000 [00:00<00:00, 42954.62it/s]\n",
      "100%|██████████| 1000/1000 [00:00<00:00, 49751.54it/s]\n",
      "100%|██████████| 1000/1000 [00:00<00:00, 59098.01it/s]\n"
     ]
    }
   ],
   "source": [
    "import os\n",
    "\n",
    "# Root folder containing the subfolders\n",
    "root_dir = '/data/Saniah/Video/Datasets/Dataset_30fps_cleaned' # e.g., '/data/Saniah/Video/Dataset_30fps_all'\n",
    "subfolders = ['High', 'Med', 'Low']\n",
    "\n",
    "# Iterate through each subfolder\n",
    "for sub in subfolders:\n",
    "    folder_path = os.path.join(root_dir, sub)\n",
    "    if not os.path.exists(folder_path):\n",
    "        print(f\"Folder not found: {folder_path}\")\n",
    "        continue\n",
    "\n",
    "    for filename in tqdm(os.listdir(folder_path)):\n",
    "        if filename.endswith('.mp4.mp4'):\n",
    "            old_path = os.path.join(folder_path, filename)\n",
    "            new_filename = filename.replace('.mp4.mp4', '.mp4')\n",
    "            new_path = os.path.join(folder_path, new_filename)\n",
    "            os.rename(old_path, new_path)\n",
    "         \n"
   ]
  },
  {
   "cell_type": "code",
   "execution_count": 89,
   "id": "71b2e131",
   "metadata": {},
   "outputs": [
    {
     "name": "stdout",
     "output_type": "stream",
     "text": [
      "\n",
      "Total invalid .npy files: 0\n"
     ]
    }
   ],
   "source": [
    "import os\n",
    "import numpy as np\n",
    "\n",
    "flow_root = \"/data/Saniah/Video/Raft/Raft_features_all/Low\"  # update if needed\n",
    "\n",
    "invalid_files = []\n",
    "\n",
    "for root, _, files in os.walk(flow_root):\n",
    "    for file in files:\n",
    "        if file.endswith(\".npy\"):\n",
    "            path = os.path.join(root, file)\n",
    "            try:\n",
    "                arr = np.load(path)\n",
    "                if arr.ndim < 3:\n",
    "                    print(f\"Warning: Unexpected shape {arr.shape} in {path}\")\n",
    "                    invalid_files.append(path)\n",
    "                    continue\n",
    "\n",
    "                height, width = arr.shape[-2], arr.shape[-1]\n",
    "                if height == 0 or width == 0:\n",
    "                    print(f\"Invalid shape {arr.shape} in {path}\")\n",
    "                    invalid_files.append(path)\n",
    "\n",
    "            except Exception as e:\n",
    "                print(f\"Error reading {path}: {e}\")\n",
    "                invalid_files.append(path)\n",
    "\n",
    "print(f\"\\nTotal invalid .npy files: {len(invalid_files)}\")\n"
   ]
  },
  {
   "cell_type": "code",
   "execution_count": 98,
   "id": "802f78c8",
   "metadata": {},
   "outputs": [
    {
     "name": "stdout",
     "output_type": "stream",
     "text": [
      "\n",
      "Total broken videos found: 0\n"
     ]
    }
   ],
   "source": [
    "import os\n",
    "import cv2\n",
    "\n",
    "videos_root = \"/data/Saniah/Video/Datasets/Dataset_30fps_all/Med\"  # Change if needed\n",
    "\n",
    "broken_videos = []\n",
    "\n",
    "files = os.listdir(videos_root)\n",
    "for file in files:\n",
    "    path = os.path.join(videos_root, file)\n",
    "    cap = cv2.VideoCapture(path)\n",
    "    width = cap.get(cv2.CAP_PROP_FRAME_WIDTH)\n",
    "    height = cap.get(cv2.CAP_PROP_FRAME_HEIGHT)\n",
    "    cap.release()\n",
    "\n",
    "    if width == 0 or height == 0:\n",
    "        print(f\"[BROKEN] {path} → Width: {width}, Height: {height}\")\n",
    "        broken_videos.append(path)\n",
    "\n",
    "print(f\"\\nTotal broken videos found: {len(broken_videos)}\")\n"
   ]
  },
  {
   "cell_type": "code",
   "execution_count": null,
   "id": "e380c3a6",
   "metadata": {},
   "outputs": [
    {
     "name": "stdout",
     "output_type": "stream",
     "text": [
      "0\n"
     ]
    }
   ],
   "source": [
    "import cv2\n",
    "path = \"/data/Saniah/Video/Datasets/Dataset_30fps_all/High\"\n",
    "files = os.listdir(path)\n",
    "cnt = 0\n",
    "for file in files:\n",
    "    f_path = os.path.join(path,file)\n",
    "    cap = cv2.VideoCapture(f_path)\n",
    "    # print(\"Opened:\", cap.isOpened())\n",
    "    Width =  cap.get(cv2.CAP_PROP_FRAME_WIDTH)\n",
    "    Height = cap.get(cv2.CAP_PROP_FRAME_HEIGHT)\n",
    "    if Width == 0  or Height == 0:\n",
    "        cnt +=1\n",
    "    cap.release()\n",
    "print(cnt)"
   ]
  },
  {
   "cell_type": "code",
   "execution_count": 104,
   "id": "ed908448",
   "metadata": {},
   "outputs": [],
   "source": [
    "\n",
    "f_path = \"/data/Saniah/Video/Datasets/Dataset_30fps_all/High/high-2636（1-1000）_view1.mp4\"\n",
    "cap = cv2.VideoCapture(f_path)\n",
    "# print(\"Opened:\", cap.isOpened())\n",
    "Width =  cap.get(cv2.CAP_PROP_FRAME_WIDTH)\n",
    "Height = cap.get(cv2.CAP_PROP_FRAME_HEIGHT)\n",
    "if Width == 0  or Height == 0:\n",
    "    print(cnt)\n",
    "    cap.release()\n"
   ]
  },
  {
   "cell_type": "code",
   "execution_count": 105,
   "id": "04e45e4d",
   "metadata": {},
   "outputs": [
    {
     "name": "stdout",
     "output_type": "stream",
     "text": [
      "Exists: True\n",
      "Opened: True\n",
      "Width: 1092.0\n",
      "Height: 614.0\n"
     ]
    }
   ],
   "source": [
    "import cv2\n",
    "path =\"/data/Saniah/Video/Datasets/Dataset_30fps_all/High/high-2636（1-1000）_view1.mp4\"\n",
    "print(\"Exists:\", os.path.exists(path))\n",
    "cap = cv2.VideoCapture(path)\n",
    "print(\"Opened:\", cap.isOpened())\n",
    "print(\"Width:\", cap.get(cv2.CAP_PROP_FRAME_WIDTH))\n",
    "print(\"Height:\", cap.get(cv2.CAP_PROP_FRAME_HEIGHT))\n",
    "cap.release()\n"
   ]
  },
  {
   "cell_type": "code",
   "execution_count": null,
   "id": "425e4821",
   "metadata": {},
   "outputs": [
    {
     "name": "stdout",
     "output_type": "stream",
     "text": [
      "\n",
      "Class: Med | Original: 1012 | Target: 2834 | Copies per video: 3\n"
     ]
    },
    {
     "name": "stderr",
     "output_type": "stream",
     "text": [
      "Augmenting Med: 100%|██████████| 1012/1012 [4:31:26<00:00, 16.09s/it] \n"
     ]
    },
    {
     "name": "stdout",
     "output_type": "stream",
     "text": [
      "\n",
      "Class: High | Original: 2470 | Target: 2834 | Copies per video: 2\n"
     ]
    },
    {
     "name": "stderr",
     "output_type": "stream",
     "text": [
      "Augmenting High:  32%|███▏      | 791/2470 [2:12:03<4:40:19, 10.02s/it]\n"
     ]
    },
    {
     "ename": "KeyboardInterrupt",
     "evalue": "",
     "output_type": "error",
     "traceback": [
      "\u001b[0;31m---------------------------------------------------------------------------\u001b[0m",
      "\u001b[0;31mKeyboardInterrupt\u001b[0m                         Traceback (most recent call last)",
      "Cell \u001b[0;32mIn[123], line 87\u001b[0m\n\u001b[1;32m     85\u001b[0m \u001b[38;5;66;03m# Step 6: Save augmented copies\u001b[39;00m\n\u001b[1;32m     86\u001b[0m \u001b[38;5;28;01mfor\u001b[39;00m i \u001b[38;5;129;01min\u001b[39;00m \u001b[38;5;28mrange\u001b[39m(\u001b[38;5;241m1\u001b[39m, multiplier):  \u001b[38;5;66;03m# Start at 1 to skip the original video\u001b[39;00m\n\u001b[0;32m---> 87\u001b[0m     aug_frames \u001b[38;5;241m=\u001b[39m [augment(img) \u001b[38;5;28;01mfor\u001b[39;00m img \u001b[38;5;129;01min\u001b[39;00m original_frames]\n\u001b[1;32m     88\u001b[0m     aug_frames_bgr \u001b[38;5;241m=\u001b[39m [cv2\u001b[38;5;241m.\u001b[39mcvtColor(np\u001b[38;5;241m.\u001b[39marray(img), cv2\u001b[38;5;241m.\u001b[39mCOLOR_RGB2BGR) \u001b[38;5;28;01mfor\u001b[39;00m img \u001b[38;5;129;01min\u001b[39;00m aug_frames]\n\u001b[1;32m     89\u001b[0m     \u001b[38;5;28;01mif\u001b[39;00m \u001b[38;5;129;01mnot\u001b[39;00m aug_frames_bgr:\n",
      "Cell \u001b[0;32mIn[123], line 87\u001b[0m, in \u001b[0;36m<listcomp>\u001b[0;34m(.0)\u001b[0m\n\u001b[1;32m     85\u001b[0m \u001b[38;5;66;03m# Step 6: Save augmented copies\u001b[39;00m\n\u001b[1;32m     86\u001b[0m \u001b[38;5;28;01mfor\u001b[39;00m i \u001b[38;5;129;01min\u001b[39;00m \u001b[38;5;28mrange\u001b[39m(\u001b[38;5;241m1\u001b[39m, multiplier):  \u001b[38;5;66;03m# Start at 1 to skip the original video\u001b[39;00m\n\u001b[0;32m---> 87\u001b[0m     aug_frames \u001b[38;5;241m=\u001b[39m [\u001b[43maugment\u001b[49m\u001b[43m(\u001b[49m\u001b[43mimg\u001b[49m\u001b[43m)\u001b[49m \u001b[38;5;28;01mfor\u001b[39;00m img \u001b[38;5;129;01min\u001b[39;00m original_frames]\n\u001b[1;32m     88\u001b[0m     aug_frames_bgr \u001b[38;5;241m=\u001b[39m [cv2\u001b[38;5;241m.\u001b[39mcvtColor(np\u001b[38;5;241m.\u001b[39marray(img), cv2\u001b[38;5;241m.\u001b[39mCOLOR_RGB2BGR) \u001b[38;5;28;01mfor\u001b[39;00m img \u001b[38;5;129;01min\u001b[39;00m aug_frames]\n\u001b[1;32m     89\u001b[0m     \u001b[38;5;28;01mif\u001b[39;00m \u001b[38;5;129;01mnot\u001b[39;00m aug_frames_bgr:\n",
      "File \u001b[0;32m/data/Saniah/conda_mmtrack/lib/python3.10/site-packages/torchvision/transforms/transforms.py:95\u001b[0m, in \u001b[0;36mCompose.__call__\u001b[0;34m(self, img)\u001b[0m\n\u001b[1;32m     93\u001b[0m \u001b[38;5;28;01mdef\u001b[39;00m\u001b[38;5;250m \u001b[39m\u001b[38;5;21m__call__\u001b[39m(\u001b[38;5;28mself\u001b[39m, img):\n\u001b[1;32m     94\u001b[0m     \u001b[38;5;28;01mfor\u001b[39;00m t \u001b[38;5;129;01min\u001b[39;00m \u001b[38;5;28mself\u001b[39m\u001b[38;5;241m.\u001b[39mtransforms:\n\u001b[0;32m---> 95\u001b[0m         img \u001b[38;5;241m=\u001b[39m \u001b[43mt\u001b[49m\u001b[43m(\u001b[49m\u001b[43mimg\u001b[49m\u001b[43m)\u001b[49m\n\u001b[1;32m     96\u001b[0m     \u001b[38;5;28;01mreturn\u001b[39;00m img\n",
      "File \u001b[0;32m/data/Saniah/conda_mmtrack/lib/python3.10/site-packages/torch/nn/modules/module.py:1736\u001b[0m, in \u001b[0;36mModule._wrapped_call_impl\u001b[0;34m(self, *args, **kwargs)\u001b[0m\n\u001b[1;32m   1734\u001b[0m     \u001b[38;5;28;01mreturn\u001b[39;00m \u001b[38;5;28mself\u001b[39m\u001b[38;5;241m.\u001b[39m_compiled_call_impl(\u001b[38;5;241m*\u001b[39margs, \u001b[38;5;241m*\u001b[39m\u001b[38;5;241m*\u001b[39mkwargs)  \u001b[38;5;66;03m# type: ignore[misc]\u001b[39;00m\n\u001b[1;32m   1735\u001b[0m \u001b[38;5;28;01melse\u001b[39;00m:\n\u001b[0;32m-> 1736\u001b[0m     \u001b[38;5;28;01mreturn\u001b[39;00m \u001b[38;5;28;43mself\u001b[39;49m\u001b[38;5;241;43m.\u001b[39;49m\u001b[43m_call_impl\u001b[49m\u001b[43m(\u001b[49m\u001b[38;5;241;43m*\u001b[39;49m\u001b[43margs\u001b[49m\u001b[43m,\u001b[49m\u001b[43m \u001b[49m\u001b[38;5;241;43m*\u001b[39;49m\u001b[38;5;241;43m*\u001b[39;49m\u001b[43mkwargs\u001b[49m\u001b[43m)\u001b[49m\n",
      "File \u001b[0;32m/data/Saniah/conda_mmtrack/lib/python3.10/site-packages/torch/nn/modules/module.py:1747\u001b[0m, in \u001b[0;36mModule._call_impl\u001b[0;34m(self, *args, **kwargs)\u001b[0m\n\u001b[1;32m   1742\u001b[0m \u001b[38;5;66;03m# If we don't have any hooks, we want to skip the rest of the logic in\u001b[39;00m\n\u001b[1;32m   1743\u001b[0m \u001b[38;5;66;03m# this function, and just call forward.\u001b[39;00m\n\u001b[1;32m   1744\u001b[0m \u001b[38;5;28;01mif\u001b[39;00m \u001b[38;5;129;01mnot\u001b[39;00m (\u001b[38;5;28mself\u001b[39m\u001b[38;5;241m.\u001b[39m_backward_hooks \u001b[38;5;129;01mor\u001b[39;00m \u001b[38;5;28mself\u001b[39m\u001b[38;5;241m.\u001b[39m_backward_pre_hooks \u001b[38;5;129;01mor\u001b[39;00m \u001b[38;5;28mself\u001b[39m\u001b[38;5;241m.\u001b[39m_forward_hooks \u001b[38;5;129;01mor\u001b[39;00m \u001b[38;5;28mself\u001b[39m\u001b[38;5;241m.\u001b[39m_forward_pre_hooks\n\u001b[1;32m   1745\u001b[0m         \u001b[38;5;129;01mor\u001b[39;00m _global_backward_pre_hooks \u001b[38;5;129;01mor\u001b[39;00m _global_backward_hooks\n\u001b[1;32m   1746\u001b[0m         \u001b[38;5;129;01mor\u001b[39;00m _global_forward_hooks \u001b[38;5;129;01mor\u001b[39;00m _global_forward_pre_hooks):\n\u001b[0;32m-> 1747\u001b[0m     \u001b[38;5;28;01mreturn\u001b[39;00m \u001b[43mforward_call\u001b[49m\u001b[43m(\u001b[49m\u001b[38;5;241;43m*\u001b[39;49m\u001b[43margs\u001b[49m\u001b[43m,\u001b[49m\u001b[43m \u001b[49m\u001b[38;5;241;43m*\u001b[39;49m\u001b[38;5;241;43m*\u001b[39;49m\u001b[43mkwargs\u001b[49m\u001b[43m)\u001b[49m\n\u001b[1;32m   1749\u001b[0m result \u001b[38;5;241m=\u001b[39m \u001b[38;5;28;01mNone\u001b[39;00m\n\u001b[1;32m   1750\u001b[0m called_always_called_hooks \u001b[38;5;241m=\u001b[39m \u001b[38;5;28mset\u001b[39m()\n",
      "File \u001b[0;32m/data/Saniah/conda_mmtrack/lib/python3.10/site-packages/torchvision/transforms/transforms.py:1812\u001b[0m, in \u001b[0;36mGaussianBlur.forward\u001b[0;34m(self, img)\u001b[0m\n\u001b[1;32m   1804\u001b[0m \u001b[38;5;250m\u001b[39m\u001b[38;5;124;03m\"\"\"\u001b[39;00m\n\u001b[1;32m   1805\u001b[0m \u001b[38;5;124;03mArgs:\u001b[39;00m\n\u001b[1;32m   1806\u001b[0m \u001b[38;5;124;03m    img (PIL Image or Tensor): image to be blurred.\u001b[39;00m\n\u001b[0;32m   (...)\u001b[0m\n\u001b[1;32m   1809\u001b[0m \u001b[38;5;124;03m    PIL Image or Tensor: Gaussian blurred image\u001b[39;00m\n\u001b[1;32m   1810\u001b[0m \u001b[38;5;124;03m\"\"\"\u001b[39;00m\n\u001b[1;32m   1811\u001b[0m sigma \u001b[38;5;241m=\u001b[39m \u001b[38;5;28mself\u001b[39m\u001b[38;5;241m.\u001b[39mget_params(\u001b[38;5;28mself\u001b[39m\u001b[38;5;241m.\u001b[39msigma[\u001b[38;5;241m0\u001b[39m], \u001b[38;5;28mself\u001b[39m\u001b[38;5;241m.\u001b[39msigma[\u001b[38;5;241m1\u001b[39m])\n\u001b[0;32m-> 1812\u001b[0m \u001b[38;5;28;01mreturn\u001b[39;00m \u001b[43mF\u001b[49m\u001b[38;5;241;43m.\u001b[39;49m\u001b[43mgaussian_blur\u001b[49m\u001b[43m(\u001b[49m\u001b[43mimg\u001b[49m\u001b[43m,\u001b[49m\u001b[43m \u001b[49m\u001b[38;5;28;43mself\u001b[39;49m\u001b[38;5;241;43m.\u001b[39;49m\u001b[43mkernel_size\u001b[49m\u001b[43m,\u001b[49m\u001b[43m \u001b[49m\u001b[43m[\u001b[49m\u001b[43msigma\u001b[49m\u001b[43m,\u001b[49m\u001b[43m \u001b[49m\u001b[43msigma\u001b[49m\u001b[43m]\u001b[49m\u001b[43m)\u001b[49m\n",
      "File \u001b[0;32m/data/Saniah/conda_mmtrack/lib/python3.10/site-packages/torchvision/transforms/functional.py:1380\u001b[0m, in \u001b[0;36mgaussian_blur\u001b[0;34m(img, kernel_size, sigma)\u001b[0m\n\u001b[1;32m   1376\u001b[0m         \u001b[38;5;28;01mraise\u001b[39;00m \u001b[38;5;167;01mTypeError\u001b[39;00m(\u001b[38;5;124mf\u001b[39m\u001b[38;5;124m\"\u001b[39m\u001b[38;5;124mimg should be PIL Image or Tensor. Got \u001b[39m\u001b[38;5;132;01m{\u001b[39;00m\u001b[38;5;28mtype\u001b[39m(img)\u001b[38;5;132;01m}\u001b[39;00m\u001b[38;5;124m\"\u001b[39m)\n\u001b[1;32m   1378\u001b[0m     t_img \u001b[38;5;241m=\u001b[39m pil_to_tensor(img)\n\u001b[0;32m-> 1380\u001b[0m output \u001b[38;5;241m=\u001b[39m \u001b[43mF_t\u001b[49m\u001b[38;5;241;43m.\u001b[39;49m\u001b[43mgaussian_blur\u001b[49m\u001b[43m(\u001b[49m\u001b[43mt_img\u001b[49m\u001b[43m,\u001b[49m\u001b[43m \u001b[49m\u001b[43mkernel_size\u001b[49m\u001b[43m,\u001b[49m\u001b[43m \u001b[49m\u001b[43msigma\u001b[49m\u001b[43m)\u001b[49m\n\u001b[1;32m   1382\u001b[0m \u001b[38;5;28;01mif\u001b[39;00m \u001b[38;5;129;01mnot\u001b[39;00m \u001b[38;5;28misinstance\u001b[39m(img, torch\u001b[38;5;241m.\u001b[39mTensor):\n\u001b[1;32m   1383\u001b[0m     output \u001b[38;5;241m=\u001b[39m to_pil_image(output, mode\u001b[38;5;241m=\u001b[39mimg\u001b[38;5;241m.\u001b[39mmode)\n",
      "File \u001b[0;32m/data/Saniah/conda_mmtrack/lib/python3.10/site-packages/torchvision/transforms/_functional_tensor.py:761\u001b[0m, in \u001b[0;36mgaussian_blur\u001b[0;34m(img, kernel_size, sigma)\u001b[0m\n\u001b[1;32m    759\u001b[0m padding \u001b[38;5;241m=\u001b[39m [kernel_size[\u001b[38;5;241m0\u001b[39m] \u001b[38;5;241m/\u001b[39m\u001b[38;5;241m/\u001b[39m \u001b[38;5;241m2\u001b[39m, kernel_size[\u001b[38;5;241m0\u001b[39m] \u001b[38;5;241m/\u001b[39m\u001b[38;5;241m/\u001b[39m \u001b[38;5;241m2\u001b[39m, kernel_size[\u001b[38;5;241m1\u001b[39m] \u001b[38;5;241m/\u001b[39m\u001b[38;5;241m/\u001b[39m \u001b[38;5;241m2\u001b[39m, kernel_size[\u001b[38;5;241m1\u001b[39m] \u001b[38;5;241m/\u001b[39m\u001b[38;5;241m/\u001b[39m \u001b[38;5;241m2\u001b[39m]\n\u001b[1;32m    760\u001b[0m img \u001b[38;5;241m=\u001b[39m torch_pad(img, padding, mode\u001b[38;5;241m=\u001b[39m\u001b[38;5;124m\"\u001b[39m\u001b[38;5;124mreflect\u001b[39m\u001b[38;5;124m\"\u001b[39m)\n\u001b[0;32m--> 761\u001b[0m img \u001b[38;5;241m=\u001b[39m \u001b[43mconv2d\u001b[49m\u001b[43m(\u001b[49m\u001b[43mimg\u001b[49m\u001b[43m,\u001b[49m\u001b[43m \u001b[49m\u001b[43mkernel\u001b[49m\u001b[43m,\u001b[49m\u001b[43m \u001b[49m\u001b[43mgroups\u001b[49m\u001b[38;5;241;43m=\u001b[39;49m\u001b[43mimg\u001b[49m\u001b[38;5;241;43m.\u001b[39;49m\u001b[43mshape\u001b[49m\u001b[43m[\u001b[49m\u001b[38;5;241;43m-\u001b[39;49m\u001b[38;5;241;43m3\u001b[39;49m\u001b[43m]\u001b[49m\u001b[43m)\u001b[49m\n\u001b[1;32m    763\u001b[0m img \u001b[38;5;241m=\u001b[39m _cast_squeeze_out(img, need_cast, need_squeeze, out_dtype)\n\u001b[1;32m    764\u001b[0m \u001b[38;5;28;01mreturn\u001b[39;00m img\n",
      "\u001b[0;31mKeyboardInterrupt\u001b[0m: "
     ]
    }
   ],
   "source": [
    "import os\n",
    "import cv2\n",
    "import numpy as np\n",
    "import torchvision.transforms as T\n",
    "from PIL import Image\n",
    "from tqdm import tqdm\n",
    "import math\n",
    "import shutil\n",
    "\n",
    "# Input and output paths\n",
    "input_root = \"/data/Saniah/Video/Datasets/Dataset_30fps_all (copy)\"\n",
    "output_root = \"/data/Saniah/Video/Datasets/Augmented_Videos\"\n",
    "\n",
    "# Define augmentations\n",
    "augment = T.Compose([\n",
    "    T.RandomHorizontalFlip(p=0.5),\n",
    "    T.RandomRotation(40),\n",
    "    T.RandomVerticalFlip(p=0.5),\n",
    "    T.GaussianBlur(kernel_size=5),\n",
    "])\n",
    "\n",
    "# Create output directory\n",
    "os.makedirs(output_root, exist_ok=True)\n",
    "\n",
    "class_video_counts = {}\n",
    "for cls in os.listdir(input_root):\n",
    "    cls_path = os.path.join(input_root, cls)\n",
    "    if not os.path.isdir(cls_path):\n",
    "        continue\n",
    "    video_count = len([f for f in os.listdir(cls_path) if f.endswith(\".mp4\")])\n",
    "    class_video_counts[cls] = video_count\n",
    "\n",
    "max_count = max(class_video_counts.values())\n",
    "\n",
    "for cls in os.listdir(input_root):\n",
    "    cls_path = os.path.join(input_root, cls)\n",
    "    if not os.path.isdir(cls_path):\n",
    "        continue\n",
    "\n",
    "    video_files = [f for f in os.listdir(cls_path) if f.endswith(\".mp4\")]\n",
    "    original_count = len(video_files)\n",
    "\n",
    "    out_cls_path = os.path.join(output_root, cls)\n",
    "    os.makedirs(out_cls_path, exist_ok=True)\n",
    "\n",
    "    if original_count < max_count:\n",
    "        multiplier = math.ceil(max_count / original_count)\n",
    "    else:\n",
    "        multiplier = 1  \n",
    "\n",
    "    print(f\"\\nClass: {cls} | Original: {original_count} | Target: {max_count} | Copies per video: {multiplier}\")\n",
    "\n",
    "    for file_idx, video_file in enumerate(tqdm(video_files, desc=f\"Augmenting {cls}\")):\n",
    "        in_path = os.path.join(cls_path, video_file)\n",
    "        cap = cv2.VideoCapture(in_path)\n",
    "        fps = cap.get(cv2.CAP_PROP_FPS)\n",
    "        original_frames = []\n",
    "\n",
    "        while True:\n",
    "            ret, frame = cap.read()\n",
    "            if not ret:\n",
    "                break\n",
    "            frame = cv2.cvtColor(frame, cv2.COLOR_BGR2RGB)\n",
    "            img = Image.fromarray(frame)\n",
    "            original_frames.append(img)\n",
    "\n",
    "        cap.release()\n",
    "\n",
    "        original_video_output_path = os.path.join(out_cls_path, video_file)\n",
    "        out_writer = cv2.VideoWriter(original_video_output_path, cv2.VideoWriter_fourcc(*'mp4v'), fps, (original_frames[0].width, original_frames[0].height))\n",
    "        for frame in original_frames:\n",
    "            frame_bgr = cv2.cvtColor(np.array(frame), cv2.COLOR_RGB2BGR)\n",
    "            out_writer.write(frame_bgr)\n",
    "        out_writer.release()\n",
    "\n",
    "        for i in range(1, multiplier):  # Start at 1 to skip the original video\n",
    "            aug_frames = [augment(img) for img in original_frames]\n",
    "            aug_frames_bgr = [cv2.cvtColor(np.array(img), cv2.COLOR_RGB2BGR) for img in aug_frames]\n",
    "            if not aug_frames_bgr:\n",
    "                continue\n",
    "            height, width, _ = aug_frames_bgr[0].shape\n",
    "            out_path = os.path.join(out_cls_path, f\"{os.path.splitext(video_file)[0]}_aug{i}.mp4\")\n",
    "            out_writer = cv2.VideoWriter(out_path, cv2.VideoWriter_fourcc(*'mp4v'), fps, (width, height))\n",
    "            for frame in aug_frames_bgr:\n",
    "                out_writer.write(frame)\n",
    "            out_writer.release()\n"
   ]
  },
  {
   "cell_type": "code",
   "execution_count": null,
   "id": "67ae47db",
   "metadata": {},
   "outputs": [
    {
     "name": "stdout",
     "output_type": "stream",
     "text": [
      "Reading /data/Saniah/Video/CSV/track_detect_all_newfound_issue_high.csv: 2513280 rows\n",
      "Reading /data/Saniah/Video/CSV/track_detect_all_newfound_issue_med.csv: 661176 rows\n",
      "Reading /data/Saniah/Video/CSV/track_detect_all_newfound_issue_low.csv: 2455090 rows\n",
      "Successfully merged 5629546 rows into 'merged_output.csv'\n"
     ]
    }
   ],
   "source": [
    "import pandas as pd\n",
    "\n",
    "# Paths to the CSV files\n",
    "file1 = '/data/Saniah/Video/CSV/track_detect_all_newfound_issue_high.csv'\n",
    "file2 = '/data/Saniah/Video/CSV/track_detect_all_newfound_issue_med.csv'\n",
    "file3 = '/data/Saniah/Video/CSV/track_detect_all_newfound_issue_low.csv'\n",
    "output = '/data/Saniah/Video/CSV/track_detect_all.csv'\n",
    "\n",
    "\n",
    "# List of your CSV files\n",
    "csv_files = [file1, file2, file3]\n",
    "\n",
    "# Read and concatenate all files\n",
    "dataframes = []\n",
    "for file in csv_files:\n",
    "    df = pd.read_csv(file)\n",
    "    print(f\"Reading {file}: {df.shape[0]} rows\")\n",
    "    dataframes.append(df)\n",
    "\n",
    "# Concatenate all dataframes\n",
    "merged_df = pd.concat(dataframes, ignore_index=True)\n",
    "\n",
    "# Save to new CSV file\n",
    "merged_df.to_csv(output, index=False)\n",
    "\n",
    "print(f\"Successfully merged {len(merged_df)} rows into 'merged_output.csv'\")\n"
   ]
  },
  {
   "cell_type": "code",
   "execution_count": 129,
   "id": "33b94d55",
   "metadata": {},
   "outputs": [
    {
     "name": "stdout",
     "output_type": "stream",
     "text": [
      "Reading /data/Saniah/Video/CSV/track_detect_all_newfound_issue.csv: 2513280 rows\n",
      "Reading /data/Saniah/Video/CSV/track_detect_all_newfound_issue_merged.csv: 3116266 rows\n",
      "Successfully merged 5629546 rows into 'merged_output.csv'\n"
     ]
    }
   ],
   "source": [
    "import pandas as pd\n",
    "\n",
    "# Paths to the CSV files\n",
    "file1 = '/data/Saniah/Video/CSV/track_detect_all_newfound_issue.csv'\n",
    "file2 = '/data/Saniah/Video/CSV/track_detect_all_newfound_issue_merged.csv'\n",
    "output = '/data/Saniah/Video/CSV/track_detect_all_newfound_issue_merged_final.csv'\n",
    "\n",
    "\n",
    "# List of your CSV files\n",
    "csv_files = [file1, file2]\n",
    "\n",
    "# Read and concatenate all files\n",
    "dataframes = []\n",
    "for file in csv_files:\n",
    "    df = pd.read_csv(file)\n",
    "    print(f\"Reading {file}: {df.shape[0]} rows\")\n",
    "    dataframes.append(df)\n",
    "\n",
    "# Concatenate all dataframes\n",
    "merged_df = pd.concat(dataframes, ignore_index=True)\n",
    "\n",
    "# Save to new CSV file\n",
    "merged_df.to_csv(output, index=False)\n",
    "\n",
    "print(f\"Successfully merged {len(merged_df)} rows into 'merged_output.csv'\")\n"
   ]
  },
  {
   "cell_type": "code",
   "execution_count": 130,
   "id": "de8a69f0",
   "metadata": {},
   "outputs": [
    {
     "data": {
      "text/plain": [
       "2574566"
      ]
     },
     "execution_count": 130,
     "metadata": {},
     "output_type": "execute_result"
    }
   ],
   "source": [
    "df = pd.read_csv('/data/Saniah/Video/CSV/track_detect_cleaned.csv')\n",
    "len(df)"
   ]
  },
  {
   "cell_type": "code",
   "execution_count": 145,
   "id": "f952c5a5",
   "metadata": {},
   "outputs": [
    {
     "name": "stdout",
     "output_type": "stream",
     "text": [
      "Number of unique videos with High engagement: 984204\n",
      "Number of unique videos with Low engagement: 938850\n",
      "Number of unique videos with Med engagement: 660008\n"
     ]
    }
   ],
   "source": [
    "df = pd.read_csv('/data/Saniah/Video/CSV/track_detect_cleaned.csv')\n",
    "low_engagement_videos = df[df['engagement_class'] == 'Low']\n",
    "high_engagement_videos = df[df['engagement_class'] == 'High']\n",
    "med_engagement_videos = df[df['engagement_class'] == 'Med']\n",
    "print(f\"Number of unique videos with High engagement: {len(high_engagement_videos)}\")\n",
    "print(f\"Number of unique videos with Low engagement: {len(low_engagement_videos)}\")\n",
    "print(f\"Number of unique videos with Med engagement: {len(med_engagement_videos)}\")\n"
   ]
  },
  {
   "cell_type": "code",
   "execution_count": 112,
   "id": "0c94dc7d",
   "metadata": {},
   "outputs": [
    {
     "name": "stdout",
     "output_type": "stream",
     "text": [
      "Total unique values in 'ColumnName': 6267\n"
     ]
    }
   ],
   "source": [
    "import pandas as pd\n",
    "\n",
    "# Load the CSV file\n",
    "df = pd.read_csv( '/data/Saniah/Video/CSV/track_detect_all_newfound_issue_merged.csv')\n",
    "\n",
    "# Check unique values in a specific column, e.g., 'ColumnName'\n",
    "unique_values = df['video'].nunique()\n",
    "\n",
    "print(f\"Total unique values in 'ColumnName': {unique_values}\")\n"
   ]
  },
  {
   "cell_type": "code",
   "execution_count": null,
   "id": "5646ed45",
   "metadata": {},
   "outputs": [
    {
     "name": "stdout",
     "output_type": "stream",
     "text": [
      "Saved 2583062 matching rows to filtered_output.csv\n",
      "\n",
      "All filenames have at least one matching row in the CSV.\n"
     ]
    }
   ],
   "source": [
    "import os\n",
    "import pandas as pd\n",
    "\n",
    "root_folder = '/data/Saniah/Video/Datasets/Dataset_30fps_cleaned'\n",
    "all = []\n",
    "\n",
    "for folder in os.listdir(root_folder):\n",
    "    files = os.listdir(os.path.join(root_folder,folder))\n",
    "    for file in files:\n",
    "        if file.endswith('mp4'):\n",
    "            all.append(file)  # Store name without extension\n",
    "\n",
    "df = pd.read_csv('/data/Saniah/Video/CSV/track_detect_all.csv')\n",
    "output = '/data/Saniah/Video/CSV/track_detect_cleaned.csv'\n",
    "\n",
    "filtered_df = df[df['video'].isin(all)]\n",
    "\n",
    "filtered_df.to_csv(output, index=False)\n",
    "\n",
    "print(f\"Saved {len(filtered_df)} matching rows to filtered_output.csv\")\n",
    "\n",
    "matched_videos = set(filtered_df['video'].unique())\n",
    "missing_files = [f for f in all if f not in matched_videos]\n",
    "\n",
    "# Report\n",
    "if missing_files:\n",
    "    print(f\"\\nThe following {len(missing_files)} files had no match in the CSV:\")\n",
    "    for m in missing_files:\n",
    "        print(m)\n",
    "else:\n",
    "    print(\"\\nAll filenames have at least one matching row in the CSV.\")\n"
   ]
  },
  {
   "cell_type": "code",
   "execution_count": 140,
   "id": "17e142ba",
   "metadata": {},
   "outputs": [
    {
     "name": "stdout",
     "output_type": "stream",
     "text": [
      "2583062\n",
      "984204\n",
      "660008\n",
      "938850\n"
     ]
    }
   ],
   "source": [
    "df = pd.read_csv('/data/Saniah/Video/CSV/track_detect_cleaned.csv')\n",
    "print( len(df))\n",
    "print(len(df[df['engagement_class'] == 'High']))\n",
    "print(len(df[df['engagement_class'] == 'Med']))\n",
    "print(len(df[df['engagement_class'] == 'Low']))\n"
   ]
  },
  {
   "cell_type": "code",
   "execution_count": 143,
   "id": "e3bfb24a",
   "metadata": {},
   "outputs": [],
   "source": [
    "root = '/data/Saniah/Video/Datasets/Dataset_30fps_cleaned'\n",
    "raft_root = '/data/Saniah/Video/Raft/Raft_features_cleaned'\n",
    "vid_folders = os.listdir(root)\n",
    "raft_folders = os.listdir(raft_root)\n",
    "for folder in vid_folders:\n",
    "    temp_v = os.listdir(os.path.join(root,folder))\n",
    "    temp = os.listdir(os.path.join(raft_root,folder))\n",
    "    rafts = []\n",
    "    videos = []\n",
    "    for t in temp:\n",
    "        rafts.append(t[:-4])\n",
    "    for v in temp_v:\n",
    "        videos.append(v[:-4])\n",
    "\n",
    "\n",
    "    for video in videos:\n",
    "        if not video in rafts:\n",
    "            print(f\"{video}.mp4 does not have a raft feature\")\n",
    "    for raft in rafts:\n",
    "        if not raft in videos:\n",
    "            print(f\"{raft} feature is here but no video\")\n",
    "    "
   ]
  },
  {
   "cell_type": "code",
   "execution_count": null,
   "id": "3db0161f",
   "metadata": {},
   "outputs": [],
   "source": [
    "videos = \"/data/Saniah/Video/Datasets/Dataset_30fps_cleaned_split\"\n",
    "f_root = \"/data/Saniah/Video/Datasets/Dataset_30fps_cleaned_split\"\n",
    "c_root = \"/data/Saniah/Video/Datasets/Dataset_30fps_cleaned_split\""
   ]
  },
  {
   "cell_type": "code",
   "execution_count": 1,
   "id": "9893f605",
   "metadata": {},
   "outputs": [
    {
     "name": "stdout",
     "output_type": "stream",
     "text": [
      "(158, 2, 128, 128)\n"
     ]
    }
   ],
   "source": [
    "import os \n",
    "import numpy as np\n",
    "\n",
    "path  = \"/data/Saniah/Video/Raft/Raft_features_cleaned/High\"\n",
    "file = os.listdir(path)[0]\n",
    "npy_file = np.load(os.path.join(path,file),mmap_mode='r')\n",
    "print(npy_file.shape)\n"
   ]
  },
  {
   "cell_type": "code",
   "execution_count": 3,
   "id": "bbaa897b",
   "metadata": {},
   "outputs": [
    {
     "name": "stdout",
     "output_type": "stream",
     "text": [
      "CSV classes: engagement_class\n",
      "High    984204\n",
      "Low     938850\n",
      "Med     660008\n",
      "Name: count, dtype: int64\n"
     ]
    }
   ],
   "source": [
    "import pandas as pd\n",
    "df = pd.read_csv('/data/Saniah/Video/CSV/track_detect_cleaned.csv')\n",
    "print(\"CSV classes:\", df[\"engagement_class\"].value_counts())\n"
   ]
  },
  {
   "cell_type": "code",
   "execution_count": null,
   "id": "1cfbd595",
   "metadata": {},
   "outputs": [
    {
     "name": "stdout",
     "output_type": "stream",
     "text": [
      "=== CLASS-WISE METRICS ===\n",
      "Class    Precision  Recall     F1-Score   Accuracy   Support \n",
      "------------------------------------------------------------------\n",
      "High     0.000      0.000      0.000      0.638      217     \n",
      "Low      0.260      0.283      0.271      0.525      187     \n",
      "Med      0.470      0.949      0.628      0.633      196     \n",
      "\n",
      "=== OVERALL METRICS ===\n",
      "Overall Accuracy: 0.398\n",
      "Total Samples: 600\n",
      "\n",
      "=== MACRO AVERAGES ===\n",
      "Macro Avg Precision: 0.243\n",
      "Macro Avg Recall: 0.411\n",
      "Macro Avg F1-Score: 0.300\n",
      "\n",
      "=== WEIGHTED AVERAGES ===\n",
      "Weighted Avg Precision: 0.234\n",
      "Weighted Avg Recall: 0.398\n",
      "Weighted Avg F1-Score: 0.290\n",
      "\n",
      "=== DETAILED BREAKDOWN ===\n",
      "Class  TP  FP  FN  TN  Support\n",
      " High   0   0 217 383      217\n",
      "  Low  53 151 134 262      187\n",
      "  Med 186 210  10 194      196\n",
      "\n",
      "=== CONFUSION MATRIX ===\n",
      "True\\Predicted  High  Low  Med\n",
      "High             0  141   76\n",
      "Low              0   53  134\n",
      "Med              0   10  186\n"
     ]
    }
   ],
   "source": [
    "import numpy as np\n",
    "import pandas as pd\n",
    "\n",
    "confusion_matrix = np.array([\n",
    "    [0, 141, 76],    # True High\n",
    "    [0, 53, 134],    # True Low  \n",
    "    [0, 10, 186]     # True Med\n",
    "])\n",
    "\n",
    "# Class labels\n",
    "classes = ['High', 'Low', 'Med']\n",
    "\n",
    "# Calculate metrics for each class\n",
    "def calculate_metrics(cm, class_idx):\n",
    "    # True Positives\n",
    "    tp = cm[class_idx, class_idx]\n",
    "    \n",
    "    # False Positives (sum of column except diagonal)\n",
    "    fp = np.sum(cm[:, class_idx]) - tp\n",
    "    \n",
    "    # False Negatives (sum of row except diagonal)\n",
    "    fn = np.sum(cm[class_idx, :]) - tp\n",
    "    \n",
    "    # True Negatives (total - tp - fp - fn)\n",
    "    tn = np.sum(cm) - tp - fp - fn\n",
    "    \n",
    "    # Support (actual instances of this class)\n",
    "    support = np.sum(cm[class_idx, :])\n",
    "    \n",
    "    # Precision: TP / (TP + FP)\n",
    "    precision = tp / (tp + fp) if (tp + fp) > 0 else 0\n",
    "    \n",
    "    # Recall: TP / (TP + FN)\n",
    "    recall = tp / (tp + fn) if (tp + fn) > 0 else 0\n",
    "    \n",
    "    # F1-Score: 2 * (Precision * Recall) / (Precision + Recall)\n",
    "    f1_score = 2 * (precision * recall) / (precision + recall) if (precision + recall) > 0 else 0\n",
    "    \n",
    "    # Accuracy: (TP + TN) / (TP + TN + FP + FN)\n",
    "    accuracy = (tp + tn) / (tp + tn + fp + fn)\n",
    "    \n",
    "    return {\n",
    "        'Class': classes[class_idx],\n",
    "        'Precision': precision,\n",
    "        'Recall': recall,\n",
    "        'F1-Score': f1_score,\n",
    "        'Accuracy': accuracy,\n",
    "        'Support': support,\n",
    "        'TP': tp,\n",
    "        'FP': fp,\n",
    "        'FN': fn,\n",
    "        'TN': tn\n",
    "    }\n",
    "\n",
    "# Calculate metrics for all classes\n",
    "results = []\n",
    "for i in range(len(classes)):\n",
    "    results.append(calculate_metrics(confusion_matrix, i))\n",
    "\n",
    "# Create DataFrame for better visualization\n",
    "df = pd.DataFrame(results)\n",
    "\n",
    "# Calculate overall accuracy\n",
    "total_correct = np.trace(confusion_matrix)  # Sum of diagonal\n",
    "total_samples = np.sum(confusion_matrix)\n",
    "overall_accuracy = total_correct / total_samples\n",
    "\n",
    "# Calculate macro and weighted averages\n",
    "macro_precision = df['Precision'].mean()\n",
    "macro_recall = df['Recall'].mean()\n",
    "macro_f1 = df['F1-Score'].mean()\n",
    "\n",
    "weighted_precision = np.average(df['Precision'], weights=df['Support'])\n",
    "weighted_recall = np.average(df['Recall'], weights=df['Support'])\n",
    "weighted_f1 = np.average(df['F1-Score'], weights=df['Support'])\n",
    "\n",
    "print(\"=== CLASS-WISE METRICS ===\")\n",
    "print(f\"{'Class':<8} {'Precision':<10} {'Recall':<10} {'F1-Score':<10} {'Accuracy':<10} {'Support':<8}\")\n",
    "print(\"-\" * 66)\n",
    "for _, row in df.iterrows():\n",
    "    print(f\"{row['Class']:<8} {row['Precision']:<10.3f} {row['Recall']:<10.3f} {row['F1-Score']:<10.3f} {row['Accuracy']:<10.3f} {row['Support']:<8.0f}\")\n",
    "\n",
    "print(\"\\n=== OVERALL METRICS ===\")\n",
    "print(f\"Overall Accuracy: {overall_accuracy:.3f}\")\n",
    "print(f\"Total Samples: {total_samples}\")\n",
    "\n",
    "print(\"\\n=== MACRO AVERAGES ===\")\n",
    "print(f\"Macro Avg Precision: {macro_precision:.3f}\")\n",
    "print(f\"Macro Avg Recall: {macro_recall:.3f}\")\n",
    "print(f\"Macro Avg F1-Score: {macro_f1:.3f}\")\n",
    "\n",
    "print(\"\\n=== WEIGHTED AVERAGES ===\")\n",
    "print(f\"Weighted Avg Precision: {weighted_precision:.3f}\")\n",
    "print(f\"Weighted Avg Recall: {weighted_recall:.3f}\")\n",
    "print(f\"Weighted Avg F1-Score: {weighted_f1:.3f}\")\n",
    "\n",
    "print(\"\\n=== DETAILED BREAKDOWN ===\")\n",
    "detailed_df = df[['Class', 'TP', 'FP', 'FN', 'TN', 'Support']]\n",
    "print(detailed_df.to_string(index=False))\n",
    "\n",
    "print(\"\\n=== CONFUSION MATRIX ===\")\n",
    "print(\"True\\\\Predicted  High  Low  Med\")\n",
    "for i, true_class in enumerate(classes):\n",
    "    row_str = f\"{true_class:<13}\"\n",
    "    for j in range(len(classes)):\n",
    "        row_str += f\"{confusion_matrix[i,j]:>5}\"\n",
    "    print(row_str)"
   ]
  }
 ],
 "metadata": {
  "kernelspec": {
   "display_name": "Python 3",
   "language": "python",
   "name": "python3"
  },
  "language_info": {
   "codemirror_mode": {
    "name": "ipython",
    "version": 3
   },
   "file_extension": ".py",
   "mimetype": "text/x-python",
   "name": "python",
   "nbconvert_exporter": "python",
   "pygments_lexer": "ipython3",
   "version": "3.10.16"
  }
 },
 "nbformat": 4,
 "nbformat_minor": 5
}
